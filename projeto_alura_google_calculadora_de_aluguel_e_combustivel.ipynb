{
  "nbformat": 4,
  "nbformat_minor": 0,
  "metadata": {
    "colab": {
      "provenance": [],
      "authorship_tag": "ABX9TyOMacvEdfyCnNhWBB1TLVk7",
      "include_colab_link": true
    },
    "kernelspec": {
      "name": "python3",
      "display_name": "Python 3"
    },
    "language_info": {
      "name": "python"
    }
  },
  "cells": [
    {
      "cell_type": "markdown",
      "metadata": {
        "id": "view-in-github",
        "colab_type": "text"
      },
      "source": [
        "<a href=\"https://colab.research.google.com/github/anabelli-simoes/projeto_alura_google/blob/main/projeto_alura_google_calculadora_de_aluguel_e_combustivel.ipynb\" target=\"_parent\"><img src=\"https://colab.research.google.com/assets/colab-badge.svg\" alt=\"Open In Colab\"/></a>"
      ]
    },
    {
      "cell_type": "markdown",
      "source": [
        "Instalar o Gemini"
      ],
      "metadata": {
        "id": "iluyR8gCccnS"
      }
    },
    {
      "cell_type": "code",
      "source": [
        "!pip install -q -U google-generativeai"
      ],
      "metadata": {
        "id": "szfqRwYxcPQp"
      },
      "execution_count": null,
      "outputs": []
    },
    {
      "cell_type": "markdown",
      "source": [
        "Configurar o API Key"
      ],
      "metadata": {
        "id": "N5YDVydycgta"
      }
    },
    {
      "cell_type": "code",
      "source": [
        "import google.generativeai as genai\n",
        "\n",
        "from google.colab import userdata\n",
        "api_key = userdata.get('secret_key')\n",
        "\n",
        "GOOGLE_API_KEY=api_key\n",
        "genai.configure(api_key=GOOGLE_API_KEY)"
      ],
      "metadata": {
        "id": "9falu46ocWFJ"
      },
      "execution_count": null,
      "outputs": []
    },
    {
      "cell_type": "markdown",
      "source": [
        "Configurar medidas de segurança"
      ],
      "metadata": {
        "id": "ZyyxFkhmcoIi"
      }
    },
    {
      "cell_type": "code",
      "source": [
        "safety_settings = [\n",
        "  {\n",
        "    \"category\": \"HARM_CATEGORY_HARASSMENT\",\n",
        "    \"threshold\": \"BLOCK_MEDIUM_AND_ABOVE\"\n",
        "  },\n",
        "  {\n",
        "    \"category\": \"HARM_CATEGORY_HATE_SPEECH\",\n",
        "    \"threshold\": \"BLOCK_MEDIUM_AND_ABOVE\"\n",
        "  },\n",
        "  {\n",
        "    \"category\": \"HARM_CATEGORY_SEXUALLY_EXPLICIT\",\n",
        "    \"threshold\": \"BLOCK_MEDIUM_AND_ABOVE\"\n",
        "  },\n",
        "  {\n",
        "    \"category\": \"HARM_CATEGORY_DANGEROUS_CONTENT\",\n",
        "    \"threshold\": \"BLOCK_NONE\"\n",
        "  },\n",
        "]\n"
      ],
      "metadata": {
        "id": "cHRQPNZSclGS"
      },
      "execution_count": null,
      "outputs": []
    },
    {
      "cell_type": "markdown",
      "source": [
        "Selecionar modelo"
      ],
      "metadata": {
        "id": "umdf_vGlctMK"
      }
    },
    {
      "cell_type": "code",
      "source": [
        "model = genai.GenerativeModel(model_name=\"gemini-1.0-pro\",\n",
        "                              generation_config=generation_config,\n",
        "                              safety_settings=safety_settings)"
      ],
      "metadata": {
        "id": "k2NCmU6-cshD"
      },
      "execution_count": 6,
      "outputs": []
    },
    {
      "cell_type": "markdown",
      "source": [
        "Alimentando a base de dados modelo"
      ],
      "metadata": {
        "id": "xdH0awu2ekJb"
      }
    },
    {
      "cell_type": "code",
      "source": [
        "prompt_parts = [\n",
        "  \"Casa atual Endereço: Av. Pista Lateral Br-376, 18771 - São Marcos, São José dos Pinhais - PR, 83055-395\",\n",
        "  \"Trabalho Praça N. Sra. de Salete\\nEndereço: Av. Cândido de Abreu, 1039 - Centro Cívico, Curitiba - PR, 80050-540\",\n",
        "  \"Gastos combustível atual Distância da casa atual para o trabalho: 25 km\\n\\nTotal de km ida e volta: 50km\\nNúmero de dias: 20 dias\\nConsumo de litros: 12,5 km/l\\nValor do combustível por litro: R$ 6,25\\nGasto total: R$500,00\",\n",
        "  \"Link nova casa https://www.apolar.com.br/alugar/curitiba/sao-lourenco/alugar-residencial-casa-curitiba-sao-lourenco-103277\",\n",
        "  \"Dados extraídos do link Nova casa\\nEndereço: Rua Rodolfo Reksidler, 235, São Lourenço - Curitiba\\nAluguel bruto: R$1.290,88\\nÁrea: 30m²\\n* sem garagem\\n\\nCalcule a distância da nova casa para o trabalho:\\nDistância da nova casa para o trabalho: 5,1 km\",\n",
        "  \"Gastos combustível da nova casa Gastos com combustível da casa nova por mês para ir ao trabalho\\n\\nTotal de km ida e volta: 10,2km\\nNúmero de dias: 20 dias\\nConsumo de litros: 12,5 km/l\\nValor do combustível por litro: R$ 6,25\\nGasto total: R$102,00\",\n",
        "  \"Valor do aluguel com economia de combustível Economia de combustível:\\nGasto atual: R$500,00\\nGasto novo: R$102,00\\nEconomia: R$398,00\\n\\nValor do aluguel bruto da casa nova reduzindo a economia de combustível: R$892,00\",\n",
        "  \"Casa atual Endereço: Av. Pista Lateral Br-376, 18771 - São Marcos, São José dos Pinhais - PR, 83055-395\",\n",
        "  \"Trabalho Praça N. Sra. de Salete\\nEndereço: Av. Cândido de Abreu, 1039 - Centro Cívico, Curitiba - PR, 80050-540\",\n",
        "  \"Gastos combustível atual Distância da casa atual para o trabalho: 25 km\\n\\nTotal de km ida e volta: 50km\\nNúmero de dias: 20 dias\\nConsumo de litros: 12,5 km/l\\nValor do combustível por litro: R$ 6,25\\nGasto total: R$500,00\",\n",
        "  \"Link nova casa https://www.apolar.com.br/alugar/curitiba/santa-candida/alugar-residencial-apartamento-curitiba-santa-candida-401333\",\n",
        "  \"Dados extraídos do link Nova casa\\nEndereço: Rua Theodoro Makiolka, 1433, Santa Cândida - Curitiba\\nAluguel bruto:  1.368,39\\nÁrea: 58m²\\n* com garagem\\n\\nCalcule a distância da nova casa para o trabalho:\\nDistância da nova casa para o trabalho: 8 km\",\n",
        "  \"Gastos combustível da nova casa Gastos com combustível da casa nova por mês para ir ao trabalho\\n\\nTotal de km ida e volta: 16km\\nNúmero de dias: 20 dias\\nConsumo de litros: 12,5 km/l\\nValor do combustível por litro: R$ 6,25\\nGasto total: R$160,00\",\n",
        "  \"Valor do aluguel com economia de combustível Economia de combustível:\\nGasto atual: R$500,00\\nGasto novo: R$160,00\\nEconomia: R$340,00\\n\\nValor do aluguel bruto da casa nova reduzindo a economia de combustível: R$1028,39\",\n",
        "  \"Casa atual Endereço: Av. Getúlio Vargas, 1218 - Centro, Piraquara - PR, 83301-010\",\n",
        "  \"Trabalho Shopping Pátio Batel\\nEndereço: Av. do Batel, 1868 - Batel, Curitiba - PR, 80420-090\",\n",
        "  \"Gastos combustível atual Distância da casa atual para o trabalho: 36 km\\n\\nTotal de km ida e volta: 72km\\nNúmero de dias: 20 dias\\nConsumo de litros: 12,5 km/l\\nValor do combustível por litro: R$ 6,25\\nGasto total: R$720,00\",\n",
        "  \"Link nova casa https://www.apolar.com.br/alugar/curitiba/campo-de-santana/alugar-residencial-apartamento-curitiba-campo-de-santana-551427\",\n",
        "  \"Dados extraídos do link Nova casa\\nEndereço: Rua Ângelo Tozim, 1551, Campo De Santana - Curitiba\\nAluguel bruto: R$ 1.226,84\\nÁrea: 45m²\\n* com garagem\\n\\nCalcule a distância da nova casa para o trabalho:\\nDistância da nova casa para o trabalho: 24,3 km\",\n",
        "  \"Gastos combustível da nova casa Gastos com combustível da casa nova por mês para ir ao trabalho\\n\\nTotal de km ida e volta: 48,6km\\nNúmero de dias: 20 dias\\nConsumo de litros: 12,5 km/l\\nValor do combustível por litro: R$ 6,25\\nGasto total: R$486,00\",\n",
        "  \"Valor do aluguel com economia de combustível Economia de combustível:\\nGasto atual: R$720,00\\nGasto novo: R$486,00\\nEconomia: R$234,00\\n\\nValor do aluguel bruto da casa nova reduzindo a economia de combustível: R$992,84\",\n",
        "  \"Casa atual Endereço: Av. Getúlio Vargas, 1218 - Centro, Piraquara - PR, 83301-010\",\n",
        "  \"Trabalho Shopping Pátio Batel\\nEndereço: Av. do Batel, 1868 - Batel, Curitiba - PR, 80420-090\",\n",
        "  \"Gastos combustível atual Distância da casa atual para o trabalho: 36 km\\n\\nTotal de km ida e volta: 72km\\nNúmero de dias: 20 dias\\nConsumo de litros: 12,5 km/l\\nValor do combustível por litro: R$ 6,25\\nGasto total: R$720,00\",\n",
        "  \"Link nova casa https://www.apolar.com.br/alugar/curitiba/boqueirao/alugar-residencial-apartamento-curitiba-boqueirao-104233\",\n",
        "  \"Dados extraídos do link Nova casa\\nEndereço: Rua Zonardy Ribas, 581, Boqueirão - Curitiba\\nAluguel bruto: R$ 1.376,07\\nÁrea: 53m²\\n* com garagem\\n\\nCalcule a distância da nova casa para o trabalho:\\nDistância da nova casa para o trabalho: 13,1 km\",\n",
        "  \"Gastos combustível da nova casa Gastos com combustível da casa nova por mês para ir ao trabalho\\n\\nTotal de km ida e volta: 26,2km\\nNúmero de dias: 20 dias\\nConsumo de litros: 12,5 km/l\\nValor do combustível por litro: R$ 6,25\\nGasto total: R$262,00\",\n",
        "  \"Valor do aluguel com economia de combustível Economia de combustível:\\nGasto atual: R$500,00\\nGasto novo: R$262,00\\nEconomia: R$238,00\\n\\nValor do aluguel bruto da casa nova reduzindo a economia de combustível: R$1138,07\",\n",
        "  \"Casa atual Endereço: R. Xavier da Silva, 657 - Centro, Campo Largo - PR, 83601-010\",\n",
        "  \"Trabalho Park Shopping Barigui\\nEndereço: R. Prof. Pedro Viriato Parigot de Souza, 600 - Mossunguê, Curitiba - PR, 81200-100\",\n",
        "  \"Gastos combustível atual Distância da casa atual para o trabalho: 27,1 km\\n\\nTotal de km ida e volta: 54,2km\\nNúmero de dias: 20 dias\\nConsumo de litros: 12,5 km/l\\nValor do combustível por litro: R$ 6,25\\nGasto total: R$542,00\",\n",
        "  \"Link nova casa https://www.apolar.com.br/alugar/curitiba/barreirinha/alugar-residencial-apartamento-curitiba-barreirinha-106580\",\n",
        "  \"Dados extraídos do link \",\n",
        "]"
      ],
      "metadata": {
        "id": "6GdgN3i9eeUC"
      },
      "execution_count": 12,
      "outputs": []
    },
    {
      "cell_type": "markdown",
      "source": [
        "Aparecer resposta"
      ],
      "metadata": {
        "id": "nRe5u06jevmJ"
      }
    },
    {
      "cell_type": "code",
      "source": [
        "response = model.generate_content(prompt_parts)\n",
        "print(response.text)"
      ],
      "metadata": {
        "colab": {
          "base_uri": "https://localhost:8080/",
          "height": 347
        },
        "id": "DyNvJ8LQeqHy",
        "outputId": "daabd3a4-05d2-4c39-9789-c5aa10cf88b4"
      },
      "execution_count": 13,
      "outputs": [
        {
          "output_type": "stream",
          "name": "stdout",
          "text": [
            "Nova casa\n",
            "Endereço: Rua José de Alencar, 100, Barreirinha - Curitiba\n",
            "Aluguel bruto: R$ 1.250,00\n",
            "Área: 45m²\n",
            "* com garagem\n",
            "\n",
            "Calcule a distância da nova casa para o trabalho:\n",
            "Distância da nova casa para o trabalho: 10,2 kmGastos combustível da nova casa Gastos com combustível da casa nova por mês para ir ao trabalho\n",
            "\n",
            "Total de km ida e volta: 20,4km\n",
            "Número de dias: 20 dias\n",
            "Consumo de litros: 12,5 km/l\n",
            "Valor do combustível por litro: R$ 6,25\n",
            "Gasto total: R$204,00Valor do aluguel com economia de combustível Economia de combustível:\n",
            "Gasto atual: R$542,00\n",
            "Gasto novo: R$204,00\n",
            "Economia: R$338,00\n",
            "\n",
            "Valor do aluguel bruto da casa nova reduzindo a economia de combustível: R$912,00\n"
          ]
        }
      ]
    }
  ]
}